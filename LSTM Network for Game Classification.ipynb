{
 "cells": [
  {
   "cell_type": "code",
   "execution_count": 2,
   "metadata": {
    "collapsed": true
   },
   "outputs": [],
   "source": [
    "#Import dependancies \n",
    "import tflearn\n",
    "import pandas as pd\n",
    "from sklearn.model_selection import train_test_split\n",
    "from tflearn.data_utils import to_categorical, pad_sequences\n",
    "import tensorflow as tf"
   ]
  },
  {
   "cell_type": "code",
   "execution_count": null,
   "metadata": {
    "collapsed": true
   },
   "outputs": [],
   "source": []
  },
  {
   "cell_type": "code",
   "execution_count": 22,
   "metadata": {
    "collapsed": false
   },
   "outputs": [
    {
     "data": {
      "text/plain": [
       "0        1\n",
       "1        1\n",
       "2        0\n",
       "3        0\n",
       "4        0\n",
       "5        0\n",
       "6        0\n",
       "7        1\n",
       "8        0\n",
       "9        0\n",
       "10       0\n",
       "11       0\n",
       "12       0\n",
       "13       1\n",
       "14       1\n",
       "15       0\n",
       "16       0\n",
       "17       0\n",
       "18       0\n",
       "19       0\n",
       "20       0\n",
       "21       0\n",
       "22       0\n",
       "23       0\n",
       "24       1\n",
       "25       0\n",
       "26       1\n",
       "27       0\n",
       "28       0\n",
       "29       0\n",
       "        ..\n",
       "18595    0\n",
       "18596    0\n",
       "18597    0\n",
       "18598    0\n",
       "18599    0\n",
       "18600    0\n",
       "18601    0\n",
       "18602    0\n",
       "18603    0\n",
       "18604    0\n",
       "18605    0\n",
       "18606    0\n",
       "18607    0\n",
       "18608    0\n",
       "18609    0\n",
       "18610    0\n",
       "18611    0\n",
       "18612    0\n",
       "18613    0\n",
       "18614    1\n",
       "18615    1\n",
       "18616    0\n",
       "18617    0\n",
       "18618    1\n",
       "18619    0\n",
       "18620    0\n",
       "18621    1\n",
       "18622    0\n",
       "18623    1\n",
       "18624    1\n",
       "Name: editors_choice, dtype: int64"
      ]
     },
     "execution_count": 22,
     "metadata": {},
     "output_type": "execute_result"
    }
   ],
   "source": [
    "#Gaming dataset\n",
    "data = pd.read_csv(\"ign.csv\")\n",
    "\n",
    "# data = pd.to_numeric(data)\n",
    "# data['score'] = data['score'].apply(lambda x: str(x))\n",
    "data['score'] = data['score'].astype(int)\n",
    "data['platform'] = data['platform'].astype(str)\n",
    "data['score_phrase'] = data['score_phrase'].astype(str)\n",
    "data['editors_choice'] = data['editors_choice'].replace('N', 0)\n",
    "data['editors_choice'] = data['editors_choice'].replace('Y', 1)\n",
    "\n",
    "X = data[['platform', 'score', 'genre', 'score_phrase', 'release_year', 'genre']]\n",
    "y = data[['editors_choice']]\n",
    "\n",
    "y.to_string()\n",
    "data['editors_choice']"
   ]
  },
  {
   "cell_type": "code",
   "execution_count": 23,
   "metadata": {
    "collapsed": false
   },
   "outputs": [],
   "source": [
    "#Split data into test and train\n",
    "X_train, X_test, y_train, y_test = train_test_split(X, y, test_size=0.33, random_state=42)\n",
    "\n",
    "y_test = y_test.values.tolist()\n",
    "y_train = y_train.values.tolist()"
   ]
  },
  {
   "cell_type": "code",
   "execution_count": 25,
   "metadata": {
    "collapsed": false
   },
   "outputs": [],
   "source": [
    "#Data preprocessing\n",
    "#Sequence padding\n",
    "\n",
    "trainX = pad_sequences(X_train, maxlen=None, dtype='str', padding='post', truncating='post', value=0.)\n",
    "testX = pad_sequences(X_test, dtype='str', maxlen=100, padding='post', truncating='post', value=0.)\n",
    "# Converting labels to binary vectors\n",
    "trainY = to_categorical(y_train, nb_classes=2)\n",
    "testY = to_categorical(y_test, nb_classes=2)"
   ]
  },
  {
   "cell_type": "code",
   "execution_count": null,
   "metadata": {
    "collapsed": false
   },
   "outputs": [
    {
     "name": "stdout",
     "output_type": "stream",
     "text": [
      "WARNING:tensorflow:From /usr/local/lib/python2.7/dist-packages/tflearn/helpers/trainer.py:149 in __init__.: initialize_all_variables (from tensorflow.python.ops.variables) is deprecated and will be removed after 2017-03-02.\n",
      "Instructions for updating:\n",
      "Use `tf.global_variables_initializer` instead.\n"
     ]
    }
   ],
   "source": [
    "# Network building\n",
    "net = tflearn.input_data([None, 100])\n",
    "net = tflearn.embedding(net, input_dim=10000, output_dim=128)\n",
    "net = tflearn.lstm(net, 128, dropout=0.8)\n",
    "net = tflearn.fully_connected(net, 2, activation='softmax')\n",
    "net = tflearn.regression(net, optimizer='adam', learning_rate=0.001,\n",
    "                         loss='categorical_crossentropy')\n",
    "\n",
    "# Training\n",
    "col = tf.get_collection(tf.GraphKeys.TRAINABLE_VARIABLES)\n",
    "for x in col:\n",
    "    tf.add_to_collection(tf.GraphKeys.VARIABLES, x)\n",
    "\n",
    "model = tflearn.DNN(net, tensorboard_verbose=0)\n",
    "model.fit(trainX, trainY, validation_set=(testX, testY), show_metric=True,\n",
    "          batch_size=None)"
   ]
  },
  {
   "cell_type": "code",
   "execution_count": null,
   "metadata": {
    "collapsed": true
   },
   "outputs": [],
   "source": []
  }
 ],
 "metadata": {
  "kernelspec": {
   "display_name": "Python 2",
   "language": "python",
   "name": "python2"
  },
  "language_info": {
   "codemirror_mode": {
    "name": "ipython",
    "version": 2
   },
   "file_extension": ".py",
   "mimetype": "text/x-python",
   "name": "python",
   "nbconvert_exporter": "python",
   "pygments_lexer": "ipython2",
   "version": "2.7.12"
  }
 },
 "nbformat": 4,
 "nbformat_minor": 1
}
